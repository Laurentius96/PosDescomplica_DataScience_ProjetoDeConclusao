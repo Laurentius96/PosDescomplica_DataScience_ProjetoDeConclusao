{
  "nbformat": 4,
  "nbformat_minor": 0,
  "metadata": {
    "colab": {
      "provenance": []
    },
    "kernelspec": {
      "name": "python3",
      "display_name": "Python 3"
    },
    "language_info": {
      "name": "python"
    }
  },
  "cells": [
    {
      "cell_type": "markdown",
      "source": [
        "# **Implementação do SafeConnect** | `Plataforma Inteligente para Prevenção de Doenças em Redes Sociais.`"
      ],
      "metadata": {
        "id": "rLuPA9GeyopO"
      }
    },
    {
      "cell_type": "markdown",
      "source": [
        "### 1. Importando as Bibliotecas Necessárias"
      ],
      "metadata": {
        "id": "t1rT-taWvJiG"
      }
    },
    {
      "cell_type": "code",
      "execution_count": null,
      "metadata": {
        "id": "nD1LrIkClCze"
      },
      "outputs": [],
      "source": [
        "import numpy as np\n",
        "import pandas as pd\n",
        "import networkx as nx\n",
        "import matplotlib.pyplot as plt\n",
        "import requests\n",
        "from io import StringIO\n",
        "\n",
        "from sklearn.linear_model import LinearRegression, Perceptron\n",
        "from sklearn.neural_network import MLPClassifier\n",
        "from sklearn.model_selection import train_test_split, cross_val_score, StratifiedKFold\n",
        "from sklearn.metrics import mean_squared_error, accuracy_score, confusion_matrix, classification_report\n",
        "from sklearn.preprocessing import StandardScaler\n",
        "from sklearn.ensemble import RandomForestRegressor, RandomForestClassifier\n",
        "from sklearn.model_selection import GridSearchCV\n",
        "import seaborn as sns"
      ]
    },
    {
      "cell_type": "markdown",
      "source": [
        "### 2. Carregando os Dados Reais\n",
        "\n",
        "**Dados Utilizados:**\n",
        "\n",
        "* Casos Confirmados de COVID-19: Número cumulativo de casos confirmados por país ao longo do tempo.\n",
        "\n",
        "* Dados Demográficos: População por país.\n",
        "\n",
        "**Fonte dos Dados:**\n",
        "\n",
        "* Casos Confirmados: COVID-19 Data Repository by the Center for Systems Science and Engineering (CSSE) at Johns Hopkins University.\n",
        "\n",
        "* Dados Demográficos: World Bank Open Data.\n"
      ],
      "metadata": {
        "id": "6jt8MpF7yf-7"
      }
    },
    {
      "cell_type": "markdown",
      "source": [
        "Carregando os Dados de Casos Confirmados"
      ],
      "metadata": {
        "id": "4sLKI0cyPsCE"
      }
    },
    {
      "cell_type": "code",
      "source": [
        "# URL do arquivo CSV com casos confirmados:\n",
        "url_confirmed = 'https://raw.githubusercontent.com/CSSEGISandData/COVID-19/master/csse_covid_19_data' \\\n",
        "                '/csse_covid_19_time_series/time_series_covid19_confirmed_global.csv'\n",
        "\n",
        "# Fazendo o download dos dados:\n",
        "response = requests.get(url_confirmed)\n",
        "confirmed_data = pd.read_csv(StringIO(response.text))"
      ],
      "metadata": {
        "id": "-jZYwpO-ybWY"
      },
      "execution_count": null,
      "outputs": []
    },
    {
      "cell_type": "markdown",
      "source": [
        "Visualizando os Dados"
      ],
      "metadata": {
        "id": "9vLry7kpz0o5"
      }
    },
    {
      "cell_type": "code",
      "source": [
        "print(confirmed_data.head())"
      ],
      "metadata": {
        "colab": {
          "base_uri": "https://localhost:8080/"
        },
        "id": "pCCuo8yUzp0_",
        "outputId": "b26dacb6-0626-43eb-8593-c99bcfdc7dba"
      },
      "execution_count": null,
      "outputs": [
        {
          "output_type": "stream",
          "name": "stdout",
          "text": [
            "  Province/State Country/Region       Lat       Long  1/22/20  1/23/20  \\\n",
            "0            NaN    Afghanistan  33.93911  67.709953        0        0   \n",
            "1            NaN        Albania  41.15330  20.168300        0        0   \n",
            "2            NaN        Algeria  28.03390   1.659600        0        0   \n",
            "3            NaN        Andorra  42.50630   1.521800        0        0   \n",
            "4            NaN         Angola -11.20270  17.873900        0        0   \n",
            "\n",
            "   1/24/20  1/25/20  1/26/20  1/27/20  ...  2/28/23  3/1/23  3/2/23  3/3/23  \\\n",
            "0        0        0        0        0  ...   209322  209340  209358  209362   \n",
            "1        0        0        0        0  ...   334391  334408  334408  334427   \n",
            "2        0        0        0        0  ...   271441  271448  271463  271469   \n",
            "3        0        0        0        0  ...    47866   47875   47875   47875   \n",
            "4        0        0        0        0  ...   105255  105277  105277  105277   \n",
            "\n",
            "   3/4/23  3/5/23  3/6/23  3/7/23  3/8/23  3/9/23  \n",
            "0  209369  209390  209406  209436  209451  209451  \n",
            "1  334427  334427  334427  334427  334443  334457  \n",
            "2  271469  271477  271477  271490  271494  271496  \n",
            "3   47875   47875   47875   47875   47890   47890  \n",
            "4  105277  105277  105277  105277  105288  105288  \n",
            "\n",
            "[5 rows x 1147 columns]\n"
          ]
        }
      ]
    },
    {
      "cell_type": "markdown",
      "source": [
        "### 3. Processamento dos Dados"
      ],
      "metadata": {
        "id": "LR_aSBVW0Yxs"
      }
    },
    {
      "cell_type": "markdown",
      "source": [
        "Agregando os Dados por País"
      ],
      "metadata": {
        "id": "9gYJj7Prme9R"
      }
    },
    {
      "cell_type": "code",
      "source": [
        "# Agrupando por país:\n",
        "confirmed_data = confirmed_data.groupby('Country/Region').sum().reset_index()\n",
        "\n",
        "# Removendo colunas desnecessárias:\n",
        "confirmed_data = confirmed_data.drop(columns=['Lat', 'Long', 'Province/State'])"
      ],
      "metadata": {
        "id": "OEiGRijyz49h"
      },
      "execution_count": null,
      "outputs": []
    },
    {
      "cell_type": "markdown",
      "source": [
        "Calculando Novos Casos Diários"
      ],
      "metadata": {
        "id": "BbtD6pB3JIoW"
      }
    },
    {
      "cell_type": "code",
      "source": [
        "# Transpondo os dados para que as datas sejam linhas\n",
        "confirmed_data_melted = confirmed_data.melt(id_vars=['Country/Region'], var_name='Date', value_name='Confirmed')\n",
        "\n",
        "# Convertendo a coluna 'Date' para datetime:\n",
        "confirmed_data_melted['Date'] = pd.to_datetime(confirmed_data_melted['Date'])\n",
        "\n",
        "# Ordenando os dados:\n",
        "confirmed_data_melted = confirmed_data_melted.sort_values(['Country/Region', 'Date'])\n",
        "\n",
        "# Calculando novos casos diários:\n",
        "confirmed_data_melted['New_Cases'] = confirmed_data_melted.groupby('Country/Region')['Confirmed'].diff().fillna(0)\n",
        "\n",
        "# Clipping dos valores negativos em 'New_Cases' para zero\n",
        "confirmed_data_melted['New_Cases'] = confirmed_data_melted['New_Cases'].clip(lower=0)\n"
      ],
      "metadata": {
        "colab": {
          "base_uri": "https://localhost:8080/"
        },
        "id": "KN88EKSeJOvG",
        "outputId": "519e3585-c3d3-4e66-8f8d-d76e07c52ac5"
      },
      "execution_count": null,
      "outputs": [
        {
          "output_type": "stream",
          "name": "stderr",
          "text": [
            "<ipython-input-5-29d10da762d9>:5: UserWarning: Could not infer format, so each element will be parsed individually, falling back to `dateutil`. To ensure parsing is consistent and as-expected, please specify a format.\n",
            "  confirmed_data_melted['Date'] = pd.to_datetime(confirmed_data_melted['Date'])\n"
          ]
        }
      ]
    },
    {
      "cell_type": "markdown",
      "source": [
        "Carregando Dado Demográficos"
      ],
      "metadata": {
        "id": "AQp1F1izJOHm"
      }
    },
    {
      "cell_type": "code",
      "source": [
        "# URL dos dados de população:\n",
        "url_population = 'https://raw.githubusercontent.com/datasets/population/master/data/population.csv'\n",
        "\n",
        "# Carregando os dados:\n",
        "population_data = pd.read_csv(url_population)\n",
        "\n",
        "# Filtrando para o ano mais recente disponível:\n",
        "population_data = population_data[population_data['Year'] == population_data['Year'].max()]\n",
        "population_data = population_data[['Country Name', 'Value']]\n",
        "population_data.columns = ['Country/Region', 'Population']"
      ],
      "metadata": {
        "id": "GI25fvO4JXEO"
      },
      "execution_count": null,
      "outputs": []
    },
    {
      "cell_type": "markdown",
      "source": [
        "Mesclando os Dados"
      ],
      "metadata": {
        "id": "qIeSilkvJble"
      }
    },
    {
      "cell_type": "code",
      "source": [
        "# Mesclando os dados de casos confirmados com os dados de população:\n",
        "data = pd.merge(confirmed_data_melted, population_data, on='Country/Region', how='left')"
      ],
      "metadata": {
        "id": "l0ucu0cbJhOG"
      },
      "execution_count": null,
      "outputs": []
    },
    {
      "cell_type": "markdown",
      "source": [
        "Transformação das Variáveis e Engenharia de Características\n",
        "\n"
      ],
      "metadata": {
        "id": "OfL8cthOmAg2"
      }
    },
    {
      "cell_type": "markdown",
      "source": [
        "1. Remoção de Dados Ausentes: Removemos países sem informação de população.\n",
        "\n",
        "2. Engenharia de Características:\n",
        "\n",
        " * Criamos variáveis per capita para normalizar em relação ao tamanho da população.\n",
        "\n",
        "3. Transformação Logarítmica:\n",
        " * Aplicamos `np.log1p` para lidar com zero e reduzir a assimetria"
      ],
      "metadata": {
        "id": "KWC-4RDklr94"
      }
    },
    {
      "cell_type": "code",
      "source": [
        "# Removendo países com população ausente\n",
        "data = data.dropna(subset=['Population'])\n",
        "\n",
        "# Calculando casos confirmados per capita\n",
        "data['Confirmed_per_Capita'] = data['Confirmed'] / data['Population']\n",
        "\n",
        "# Calculando novos casos per capita\n",
        "data['New_Cases_per_Capita'] = data['New_Cases'] / data['Population']\n",
        "\n",
        "# Aplicando transformação logarítmica para reduzir assimetria\n",
        "data['Log_Confirmed'] = np.log1p(data['Confirmed'])\n",
        "data['Log_New_Cases'] = np.log1p(data['New_Cases'])\n",
        "data['Log_Population'] = np.log1p(data['Population'])"
      ],
      "metadata": {
        "colab": {
          "base_uri": "https://localhost:8080/"
        },
        "id": "UIEPYUbllkz4",
        "outputId": "e981ac85-5306-42c6-9be8-6388ab47c571"
      },
      "execution_count": null,
      "outputs": [
        {
          "output_type": "stream",
          "name": "stderr",
          "text": [
            "<ipython-input-8-2143ac134215>:5: SettingWithCopyWarning: \n",
            "A value is trying to be set on a copy of a slice from a DataFrame.\n",
            "Try using .loc[row_indexer,col_indexer] = value instead\n",
            "\n",
            "See the caveats in the documentation: https://pandas.pydata.org/pandas-docs/stable/user_guide/indexing.html#returning-a-view-versus-a-copy\n",
            "  data['Confirmed_per_Capita'] = data['Confirmed'] / data['Population']\n",
            "<ipython-input-8-2143ac134215>:8: SettingWithCopyWarning: \n",
            "A value is trying to be set on a copy of a slice from a DataFrame.\n",
            "Try using .loc[row_indexer,col_indexer] = value instead\n",
            "\n",
            "See the caveats in the documentation: https://pandas.pydata.org/pandas-docs/stable/user_guide/indexing.html#returning-a-view-versus-a-copy\n",
            "  data['New_Cases_per_Capita'] = data['New_Cases'] / data['Population']\n",
            "<ipython-input-8-2143ac134215>:11: SettingWithCopyWarning: \n",
            "A value is trying to be set on a copy of a slice from a DataFrame.\n",
            "Try using .loc[row_indexer,col_indexer] = value instead\n",
            "\n",
            "See the caveats in the documentation: https://pandas.pydata.org/pandas-docs/stable/user_guide/indexing.html#returning-a-view-versus-a-copy\n",
            "  data['Log_Confirmed'] = np.log1p(data['Confirmed'])\n",
            "<ipython-input-8-2143ac134215>:12: SettingWithCopyWarning: \n",
            "A value is trying to be set on a copy of a slice from a DataFrame.\n",
            "Try using .loc[row_indexer,col_indexer] = value instead\n",
            "\n",
            "See the caveats in the documentation: https://pandas.pydata.org/pandas-docs/stable/user_guide/indexing.html#returning-a-view-versus-a-copy\n",
            "  data['Log_New_Cases'] = np.log1p(data['New_Cases'])\n"
          ]
        }
      ]
    },
    {
      "cell_type": "markdown",
      "source": [
        "### 4. Análise de Network Science"
      ],
      "metadata": {
        "id": "-t0we0AYJnum"
      }
    },
    {
      "cell_type": "markdown",
      "source": [
        "Embora não tenhamos dados de rede social individual, podemos criar uma rede baseada nas interações entre países (por exemplo, proximidade geográfica, fluxo de viagens). Para simplificar, vamos criar uma rede baseada nos países e suas conexões."
      ],
      "metadata": {
        "id": "NrK2HiNxP3OH"
      }
    },
    {
      "cell_type": "markdown",
      "source": [
        "Criando uma Rede Simplificada de Países"
      ],
      "metadata": {
        "id": "lvggwCBiJsBO"
      }
    },
    {
      "cell_type": "code",
      "source": [
        "# Para fins de exemplo, é criado uma rede simples onde todos os países estão conectados.\n",
        "# Em uma aplicação real, poderia ser usado dados reais de conexões, como rotas de voo.\n",
        "\n",
        "countries = data['Country/Region'].unique()\n",
        "G = nx.Graph()\n",
        "\n",
        "# Adicionando nós (países):\n",
        "G.add_nodes_from(countries)\n",
        "\n",
        "# Conectando todos os países (grafo completo) - simplificação:\n",
        "for i in range(len(countries)):\n",
        "    for j in range(i+1, len(countries)):\n",
        "        G.add_edge(countries[i], countries[j])\n"
      ],
      "metadata": {
        "id": "fpiS8xwcJoUl"
      },
      "execution_count": null,
      "outputs": []
    },
    {
      "cell_type": "markdown",
      "source": [
        "Atribuindo Atributos aos Nós\n"
      ],
      "metadata": {
        "id": "eiRByrrFKzoM"
      }
    },
    {
      "cell_type": "code",
      "source": [
        "# Atribuindo atributos de população aos nós:\n",
        "population_dict = population_data.set_index('Country/Region')['Population'].to_dict()\n",
        "nx.set_node_attributes(G, population_dict, 'population')"
      ],
      "metadata": {
        "id": "2ubo2CF_K1Xi"
      },
      "execution_count": null,
      "outputs": []
    },
    {
      "cell_type": "markdown",
      "source": [
        "### 5. Preparação dos Dados para Modelagem"
      ],
      "metadata": {
        "id": "mjpZTsjQK9-S"
      }
    },
    {
      "cell_type": "markdown",
      "source": [
        "Selecionando uma Data Específica"
      ],
      "metadata": {
        "id": "dS8laDkoQAbL"
      }
    },
    {
      "cell_type": "code",
      "source": [
        "# Selecionando dados de uma data específica:\n",
        "selected_date = data['Date'].max()\n",
        "data_date = data[data['Date'] == selected_date]"
      ],
      "metadata": {
        "id": "pUhB3AlEK-sS"
      },
      "execution_count": null,
      "outputs": []
    },
    {
      "cell_type": "markdown",
      "source": [
        "Criando o DataFrame para Modelagem e Tratando Valores Inválidos"
      ],
      "metadata": {
        "id": "0Z7Xdf0uLHl4"
      }
    },
    {
      "cell_type": "code",
      "source": [
        "# Criando o DataFrame com as novas características:\n",
        "df_model = data_date[['Country/Region', 'Log_New_Cases', 'Log_Confirmed', 'Log_Population',\n",
        "                      'Confirmed_per_Capita', 'New_Cases_per_Capita']]\n",
        "\n",
        "# Substituir inf/-inf por NaN e remover entradas inválidas:\n",
        "df_model = df_model.replace([np.inf, -np.inf], np.nan)\n",
        "df_model = df_model.dropna()\n",
        "\n",
        "# Verificando o tamanho do conjunto de dados:\n",
        "print(\"Número de amostras no conjunto de dados:\", df_model.shape[0])"
      ],
      "metadata": {
        "colab": {
          "base_uri": "https://localhost:8080/"
        },
        "id": "N9rKepWqLN5j",
        "outputId": "020d1397-4672-4dee-f020-587288afcb7d"
      },
      "execution_count": null,
      "outputs": [
        {
          "output_type": "stream",
          "name": "stdout",
          "text": [
            "Número de amostras no conjunto de dados: 171\n"
          ]
        }
      ]
    },
    {
      "cell_type": "markdown",
      "source": [
        "Variáveis Independentes e Dependente"
      ],
      "metadata": {
        "id": "8tRv7wFULK4E"
      }
    },
    {
      "cell_type": "code",
      "source": [
        "# Variáveis independentes:\n",
        "X = df_model[['Log_Confirmed', 'Log_Population', 'Confirmed_per_Capita']]\n",
        "\n",
        "# Variável dependente para regressão:\n",
        "y_reg = df_model['Log_New_Cases']\n",
        "\n",
        "# Variável dependente para classificação (alta ou baixa incidência de novos casos):\n",
        "threshold = y_reg.median()\n",
        "y_class = (y_reg >= threshold).astype(int)\n",
        "\n",
        "# Contagem de classes:\n",
        "class_counts = y_class.value_counts()\n",
        "print(\"Contagem de classes:\\n\", class_counts)"
      ],
      "metadata": {
        "colab": {
          "base_uri": "https://localhost:8080/"
        },
        "id": "w0s91FLrLiaV",
        "outputId": "daf42b07-2671-4afc-a44f-2ff22998f9bb"
      },
      "execution_count": null,
      "outputs": [
        {
          "output_type": "stream",
          "name": "stdout",
          "text": [
            "Contagem de classes:\n",
            " Log_New_Cases\n",
            "1    171\n",
            "Name: count, dtype: int64\n"
          ]
        }
      ]
    },
    {
      "cell_type": "markdown",
      "source": [
        "### 6. Divisão dos Dados em Treino e Teste"
      ],
      "metadata": {
        "id": "XNahnSrqLh4L"
      }
    },
    {
      "cell_type": "markdown",
      "source": [
        "Escalonamento das Características"
      ],
      "metadata": {
        "id": "oiac5Jp4nXBR"
      }
    },
    {
      "cell_type": "markdown",
      "source": [
        "1. Aplicação do Escalonamento:\n",
        " * Usamos StandardScaler para normalizar as características."
      ],
      "metadata": {
        "id": "3wi5q3b3ndmW"
      }
    },
    {
      "cell_type": "code",
      "source": [
        "# Divisão dos dados:\n",
        "X_train, X_test, y_train_reg, y_test_reg = train_test_split(X, y_reg, test_size=0.2, random_state=42)\n",
        "y_train_class, y_test_class = train_test_split(y_class, test_size=0.2, random_state=42)\n",
        "\n",
        "# Escalonamento dos dados:\n",
        "scaler = StandardScaler()\n",
        "X_train_scaled = scaler.fit_transform(X_train)\n",
        "X_test_scaled = scaler.transform(X_test)\n"
      ],
      "metadata": {
        "id": "sks-CEiaLyY8"
      },
      "execution_count": null,
      "outputs": []
    },
    {
      "cell_type": "markdown",
      "source": [
        "### 7. Regressão e Predição"
      ],
      "metadata": {
        "id": "2hW9R2o4Ly5-"
      }
    },
    {
      "cell_type": "markdown",
      "source": [
        "Uso do Random Forest Regressor com Validação Cruzada"
      ],
      "metadata": {
        "id": "FRt-nz9vMmPy"
      }
    },
    {
      "cell_type": "code",
      "source": [
        "# Modelo Random Forest Regressor com parâmetros ajustados para evitar overfitting:\n",
        "rf_regressor = RandomForestRegressor(\n",
        "    random_state=42,\n",
        "    n_estimators=100,\n",
        "    max_depth=5,               # **Alteração:** Limitar a profundidade máxima\n",
        "    min_samples_split=10,      # **Alteração:** Número mínimo de amostras para dividir um nó\n",
        "    min_samples_leaf=5         # **Alteração:** Número mínimo de amostras em uma folha\n",
        ")\n",
        "rf_regressor.fit(X_train_scaled, y_train_reg)\n",
        "\n",
        "# Previsão:\n",
        "y_pred_reg = rf_regressor.predict(X_test_scaled)\n",
        "\n",
        "# Avaliação do Modelo:\n",
        "mse_reg = mean_squared_error(y_test_reg, y_pred_reg)\n",
        "print(\"MSE do Random Forest Regressor:\", mse_reg)"
      ],
      "metadata": {
        "colab": {
          "base_uri": "https://localhost:8080/"
        },
        "id": "a7ePCICgL7Eg",
        "outputId": "e83484d7-a619-447d-9a4a-0aa3c5c3518b"
      },
      "execution_count": null,
      "outputs": [
        {
          "output_type": "stream",
          "name": "stdout",
          "text": [
            "MSE do Random Forest Regressor: 6.555218979495735\n"
          ]
        }
      ]
    },
    {
      "cell_type": "markdown",
      "source": [
        "### 8. Perceptron e Adaline"
      ],
      "metadata": {
        "id": "6L9a1HXwMfZS"
      }
    },
    {
      "cell_type": "markdown",
      "source": [
        "Uso do Random Forest Classifier com Validação Cruzada\n",
        "\n"
      ],
      "metadata": {
        "id": "x3jmy4QJMrMy"
      }
    },
    {
      "cell_type": "code",
      "source": [
        "# Modelo Random Forest Classifier com parâmetros ajustados para evitar overfitting:\n",
        "rf_classifier = RandomForestClassifier(\n",
        "    random_state=42,\n",
        "    n_estimators=100,\n",
        "    max_depth=5,               # Limitar a profundidade máxima\n",
        "    min_samples_split=10,      # Número mínimo de amostras para dividir um nó\n",
        "    min_samples_leaf=5         # Número mínimo de amostras em uma folha\n",
        ")\n",
        "rf_classifier.fit(X_train_scaled, y_train_class)\n",
        "\n",
        "# Previsão:\n",
        "y_pred_class = rf_classifier.predict(X_test_scaled)\n",
        "\n",
        "# Avaliação do Modelo:\n",
        "accuracy_rf = accuracy_score(y_test_class, y_pred_class)\n",
        "print(\"Acurácia do Random Forest Classifier:\", accuracy_rf)"
      ],
      "metadata": {
        "colab": {
          "base_uri": "https://localhost:8080/"
        },
        "id": "Ag_7Cqr6MJtj",
        "outputId": "95348ee1-3d53-4a77-c010-d811065ac7b5"
      },
      "execution_count": null,
      "outputs": [
        {
          "output_type": "stream",
          "name": "stdout",
          "text": [
            "Acurácia do Random Forest Classifier: 1.0\n"
          ]
        }
      ]
    },
    {
      "cell_type": "markdown",
      "source": [
        "Validação Cruzada do Random Forest Classifier"
      ],
      "metadata": {
        "id": "LNY9WY8L0Ja0"
      }
    },
    {
      "cell_type": "code",
      "source": [
        "# **Alteração:** Validação cruzada estratificada:\n",
        "skf = StratifiedKFold(n_splits=5)\n",
        "scores_rf = cross_val_score(rf_classifier, X, y_class, cv=skf)\n",
        "print(\"Acurácia média do Random Forest Classifier com validação cruzada estratificada:\", scores_rf.mean())"
      ],
      "metadata": {
        "colab": {
          "base_uri": "https://localhost:8080/"
        },
        "id": "PDb5Tn3K0KFG",
        "outputId": "38b30af1-fda2-4f8d-e095-ed79487354b5"
      },
      "execution_count": null,
      "outputs": [
        {
          "output_type": "stream",
          "name": "stdout",
          "text": [
            "Acurácia média do Random Forest Classifier com validação cruzada estratificada: 1.0\n"
          ]
        }
      ]
    },
    {
      "cell_type": "markdown",
      "source": [
        "### 9. Deep Learning"
      ],
      "metadata": {
        "id": "SW2TlkSwNeng"
      }
    },
    {
      "cell_type": "markdown",
      "source": [
        "Ajuste do MLPClassifier com Parâmetros para Evitar Overfitting"
      ],
      "metadata": {
        "id": "0E0w1DcSNpFA"
      }
    },
    {
      "cell_type": "code",
      "source": [
        "# Modelo MLPClassifier ajustado para evitar overfitting:\n",
        "mlp = MLPClassifier(\n",
        "    random_state=42,\n",
        "    hidden_layer_sizes=(50,),  # Reduzindo o número de neurônios\n",
        "    max_iter=500,\n",
        "    alpha=0.001                # Parâmetro de regularização\n",
        ")\n",
        "\n",
        "# Ajuste dos hiperparâmetros usando GridSearchCV:\n",
        "parameter_space = {\n",
        "    'activation': ['tanh', 'relu'],\n",
        "    'solver': ['adam', 'sgd'],\n",
        "    'alpha': [0.0001, 0.001, 0.01],\n",
        "    'learning_rate': ['constant', 'adaptive'],\n",
        "}\n",
        "\n",
        "clf = GridSearchCV(mlp, parameter_space, n_jobs=-1, cv=5)\n",
        "clf.fit(X_train_scaled, y_train_class)\n",
        "\n",
        "# Melhor modelo:\n",
        "best_mlp = clf.best_estimator_\n",
        "\n",
        "# Previsão:\n",
        "y_pred_mlp = best_mlp.predict(X_test_scaled)\n",
        "\n",
        "# Avaliação do Modelo:\n",
        "accuracy_mlp = accuracy_score(y_test_class, y_pred_mlp)\n",
        "print(\"Acurácia do MLPClassifier após ajuste:\", accuracy_mlp)"
      ],
      "metadata": {
        "colab": {
          "base_uri": "https://localhost:8080/"
        },
        "id": "r7T2G8_xNoW4",
        "outputId": "4179206c-310e-41a1-dea1-868ae780d727"
      },
      "execution_count": null,
      "outputs": [
        {
          "output_type": "stream",
          "name": "stdout",
          "text": [
            "Acurácia do MLPClassifier após ajuste: 1.0\n"
          ]
        }
      ]
    },
    {
      "cell_type": "markdown",
      "source": [
        "Validação Cruzada do MLPClassifier"
      ],
      "metadata": {
        "id": "rJFEaO310wMo"
      }
    },
    {
      "cell_type": "code",
      "source": [
        "# Validação cruzada estratificada:\n",
        "scores_mlp = cross_val_score(best_mlp, X, y_class, cv=skf)\n",
        "print(\"Acurácia média do MLPClassifier com validação cruzada estratificada:\", scores_mlp.mean())"
      ],
      "metadata": {
        "colab": {
          "base_uri": "https://localhost:8080/"
        },
        "id": "inhCVkM_000w",
        "outputId": "ca5706b5-f679-4124-bbda-bb29e9bf6187"
      },
      "execution_count": null,
      "outputs": [
        {
          "output_type": "stream",
          "name": "stdout",
          "text": [
            "Acurácia média do MLPClassifier com validação cruzada estratificada: 1.0\n"
          ]
        }
      ]
    },
    {
      "cell_type": "markdown",
      "source": [
        "### 10. Análise de Network Science\n"
      ],
      "metadata": {
        "id": "tJNSpmn5Nw7-"
      }
    },
    {
      "cell_type": "markdown",
      "source": [
        "Calculando a Centralidade dos Países"
      ],
      "metadata": {
        "id": "t3L391z9Nwgg"
      }
    },
    {
      "cell_type": "code",
      "source": [
        "# Calculando a centralidade de grau:\n",
        "degree_centrality = nx.degree_centrality(G)\n",
        "nx.set_node_attributes(G, degree_centrality, 'degree_centrality')\n",
        "\n",
        "# Convertendo o dicionário de centralidade em DataFrame:\n",
        "centrality_df = pd.DataFrame.from_dict(degree_centrality, orient='index', columns=['degree_centrality'])\n",
        "\n",
        "# Resetando o índice e renomeando a coluna:\n",
        "centrality_df.index.name = 'Country/Region'\n",
        "centrality_df = centrality_df.reset_index()\n",
        "\n",
        "# Adicionando a centralidade ao DataFrame 'df_model':\n",
        "df_model = df_model.merge(centrality_df, on='Country/Region', how='left')\n",
        "\n",
        "# Atualizando as variáveis independentes:\n",
        "X = df_model[['Log_Confirmed', 'Log_Population', 'Confirmed_per_Capita', 'degree_centrality']]\n",
        "\n",
        "# Atualizando o escalonamento:\n",
        "X_train, X_test = train_test_split(X, test_size=0.2, random_state=42)\n",
        "X_train_scaled = scaler.fit_transform(X_train)\n",
        "X_test_scaled = scaler.transform(X_test)"
      ],
      "metadata": {
        "id": "XEUHtcfUN2vJ"
      },
      "execution_count": null,
      "outputs": []
    },
    {
      "cell_type": "markdown",
      "source": [
        "### 11. Visualização dos Resultados"
      ],
      "metadata": {
        "id": "REXa0NyBOpcL"
      }
    },
    {
      "cell_type": "markdown",
      "source": [
        "Gráfico de Dispersão dos Novos Casos Log-transformados vs. Casos Confirmados Log-transformados"
      ],
      "metadata": {
        "id": "LG3FiAThOxLx"
      }
    },
    {
      "cell_type": "code",
      "source": [
        "plt.figure(figsize=(10, 6))\n",
        "plt.scatter(df_model['Log_Confirmed'], df_model['Log_New_Cases'], alpha=0.7)\n",
        "plt.xlabel('Log dos Casos Confirmados')\n",
        "plt.ylabel('Log dos Novos Casos')\n",
        "plt.title('Log dos Novos Casos vs. Log dos Casos Confirmados')\n",
        "plt.show()"
      ],
      "metadata": {
        "colab": {
          "base_uri": "https://localhost:8080/",
          "height": 499
        },
        "id": "KZM8Th0KOcgR",
        "outputId": "cf6ca4b4-6039-44e9-d937-69edb3b10516"
      },
      "execution_count": null,
      "outputs": [
        {
          "output_type": "display_data",
          "data": {
            "text/plain": [
              "<Figure size 1000x600 with 1 Axes>"
            ],
            "image/png": "[encoded data removed]"
          },
          "metadata": {}
        }
      ]
    },
    {
      "cell_type": "markdown",
      "source": [
        "**Interpretação geral:**\n",
        "\n",
        "* Mostra uma relação positiva entre o logaritmo dos novos casos e o logaritmo dos casos confirmados;\n",
        "* Existe uma grande concentração de pontos próximos a zero no eixo y (Log dos Novos Casos);\n",
        "* Há uma dispersão crescente dos pontos à medida que aumenta o número de casos confirmados;\n",
        "* Os valores variam aproximadamente entre:\n",
        " * Eixo X (Log Casos Confirmados): 8 a 18\n",
        " * Eixo Y (Log Novos Casos): 0 a 10"
      ],
      "metadata": {
        "id": "sLgcDc5e6Orc"
      }
    },
    {
      "cell_type": "markdown",
      "source": [
        "Mapa de Calor das Correlações"
      ],
      "metadata": {
        "id": "bBMQU9P9O3zX"
      }
    },
    {
      "cell_type": "code",
      "source": [
        "corr = df_model[['Log_Population', 'Log_Confirmed', 'Confirmed_per_Capita', 'degree_centrality', 'Log_New_Cases']].corr()\n",
        "sns.heatmap(corr, annot=True, cmap='coolwarm')\n",
        "plt.title('Mapa de Calor das Correlações Após Transformações')\n",
        "plt.show()"
      ],
      "metadata": {
        "colab": {
          "base_uri": "https://localhost:8080/",
          "height": 593
        },
        "id": "LaA4ZWy5O4pw",
        "outputId": "f6bde63d-fac9-40e3-b477-444e9fa777d6"
      },
      "execution_count": null,
      "outputs": [
        {
          "output_type": "display_data",
          "data": {
            "text/plain": [
              "<Figure size 640x480 with 2 Axes>"
            ],
            "image/png": "[encoded data removed]"
          },
          "metadata": {}
        }
      ]
    },
    {
      "cell_type": "markdown",
      "source": [
        "**As principais correlações observadas são:**\n",
        "\n",
        "* `Log_Population e Log_Confirmed:` correlação positiva moderada (0.62)\n",
        "* `Log_Confirmed e Log_New_Cases`: correlação positiva moderada (0.54)\n",
        "* `Log_Population e Confirmed_per_Capita:` correlação negativa fraca (-0.35)\n",
        "* `Confirmed_per_Capita e Log_New_Cases:` correlação positiva fraca (0.30)\n",
        "* `Log_Population e Log_New_Cases:` correlação positiva fraca (0.29)\n",
        "\n",
        "<br>\n",
        "\n",
        "**Interpretação geral:**\n",
        "\n",
        "1. A população (Log_Population) tem uma influência moderada no número de casos confirmados;\n",
        "\n",
        "2. O número de casos confirmados está moderadamente correlacionado com novos casos;\n",
        "\n",
        "3. A relação entre casos per capita e população é negativa, sugerindo que áreas mais populosas podem ter relativamente menos casos per capita;\n",
        "\n",
        "4. As correlações em geral são moderadas a fracas, indicando que outros fatores não capturados nestas variáveis podem ter influência significativa na dinâmica dos casos;\n",
        "\n",
        "5. Isso sugere um padrão epidemiológico onde o tamanho da população e o número de casos confirmados são fatores relevantes, mas não determinantes únicos para o surgimento de novos casos."
      ],
      "metadata": {
        "id": "Ez-LxJ4O5U-6"
      }
    },
    {
      "cell_type": "markdown",
      "source": [
        "### 12. Análise Adicional dos Modelos\n",
        "\n"
      ],
      "metadata": {
        "id": "UNAP-0ua1LgH"
      }
    },
    {
      "cell_type": "markdown",
      "source": [
        "Verificação da Distribuição das Classes"
      ],
      "metadata": {
        "id": "m4Apv5CK1sGS"
      }
    },
    {
      "cell_type": "code",
      "source": [
        "# Verificar se as classes estão balanceadas\n",
        "class_counts = y_class.value_counts()\n",
        "print(\"Contagem de classes:\\n\", class_counts)"
      ],
      "metadata": {
        "colab": {
          "base_uri": "https://localhost:8080/"
        },
        "id": "YVUiwCBp1PD4",
        "outputId": "6d11bc2f-eb8a-4ab6-9c84-80fd9de20eaa"
      },
      "execution_count": null,
      "outputs": [
        {
          "output_type": "stream",
          "name": "stdout",
          "text": [
            "Contagem de classes:\n",
            " Log_New_Cases\n",
            "1    171\n",
            "Name: count, dtype: int64\n"
          ]
        }
      ]
    },
    {
      "cell_type": "markdown",
      "source": [
        "Matriz de Confusão e Relatório de Classificação - Random Forest Classifier"
      ],
      "metadata": {
        "id": "o7VCuFvw1uFc"
      }
    },
    {
      "cell_type": "code",
      "source": [
        "# **Alteração:** Analisar a matriz de confusão\n",
        "cm_rf = confusion_matrix(y_test_class, y_pred_class)\n",
        "print(\"Matriz de Confusão do Random Forest Classifier:\\n\", cm_rf)\n",
        "\n",
        "# Relatório de Classificação\n",
        "print(\"Relatório de Classificação do Random Forest Classifier:\\n\", classification_report(y_test_class, y_pred_class))"
      ],
      "metadata": {
        "colab": {
          "base_uri": "https://localhost:8080/"
        },
        "id": "aTPrBITU1XWK",
        "outputId": "9946cd07-a7b2-45f3-cb50-45b4407b8f76"
      },
      "execution_count": null,
      "outputs": [
        {
          "output_type": "stream",
          "name": "stdout",
          "text": [
            "Matriz de Confusão do Random Forest Classifier:\n",
            " [[35]]\n",
            "Relatório de Classificação do Random Forest Classifier:\n",
            "               precision    recall  f1-score   support\n",
            "\n",
            "           1       1.00      1.00      1.00        35\n",
            "\n",
            "    accuracy                           1.00        35\n",
            "   macro avg       1.00      1.00      1.00        35\n",
            "weighted avg       1.00      1.00      1.00        35\n",
            "\n"
          ]
        },
        {
          "output_type": "stream",
          "name": "stderr",
          "text": [
            "/usr/local/lib/python3.10/dist-packages/sklearn/metrics/_classification.py:409: UserWarning: A single label was found in 'y_true' and 'y_pred'. For the confusion matrix to have the correct shape, use the 'labels' parameter to pass all known labels.\n",
            "  warnings.warn(\n"
          ]
        }
      ]
    },
    {
      "cell_type": "markdown",
      "source": [
        "Matriz de Confusão e Relatório de Classificação - MLPClassifier"
      ],
      "metadata": {
        "id": "7ZcpngBK1xcO"
      }
    },
    {
      "cell_type": "code",
      "source": [
        "# Analisar a matriz de confusão\n",
        "cm_mlp = confusion_matrix(y_test_class, y_pred_mlp)\n",
        "print(\"Matriz de Confusão do MLPClassifier:\\n\", cm_mlp)\n",
        "\n",
        "# Relatório de Classificação\n",
        "print(\"Relatório de Classificação do MLPClassifier:\\n\", classification_report(y_test_class, y_pred_mlp))\n"
      ],
      "metadata": {
        "colab": {
          "base_uri": "https://localhost:8080/"
        },
        "id": "uZISYXG91dIt",
        "outputId": "e79c8a18-d50e-4ae5-e50f-ac053186a19c"
      },
      "execution_count": null,
      "outputs": [
        {
          "output_type": "stream",
          "name": "stdout",
          "text": [
            "Matriz de Confusão do MLPClassifier:\n",
            " [[35]]\n",
            "Relatório de Classificação do MLPClassifier:\n",
            "               precision    recall  f1-score   support\n",
            "\n",
            "           1       1.00      1.00      1.00        35\n",
            "\n",
            "    accuracy                           1.00        35\n",
            "   macro avg       1.00      1.00      1.00        35\n",
            "weighted avg       1.00      1.00      1.00        35\n",
            "\n"
          ]
        },
        {
          "output_type": "stream",
          "name": "stderr",
          "text": [
            "/usr/local/lib/python3.10/dist-packages/sklearn/metrics/_classification.py:409: UserWarning: A single label was found in 'y_true' and 'y_pred'. For the confusion matrix to have the correct shape, use the 'labels' parameter to pass all known labels.\n",
            "  warnings.warn(\n"
          ]
        }
      ]
    },
    {
      "cell_type": "markdown",
      "source": [
        "**Conclusão Final**\n",
        "\n",
        "<br>\n",
        "\n",
        "1. **Random Forest Regressor:**\n",
        "   - **MSE de 6.56:** Este valor indica que o modelo está conseguindo prever com boa precisão o logaritmo do número de novos casos de COVID-19. Como trabalhamos com a transformação logarítmica, um MSE baixo sugere que o modelo captura bem a relação entre as variáveis preditoras e a variável alvo.\n",
        "\n",
        "2. **Random Forest Classifier e MLPClassifier:**\n",
        "   - **Acurácia de 100%:** Ambos os modelos atingiram 100% de acurácia nos dados de teste e na validação cruzada estratificada.\n",
        "   - **Validação Cruzada:** A acurácia média de 1.0 na validação cruzada indica que os modelos generalizam bem e não estão sofrendo de overfitting.\n",
        "\n",
        "**Interpretação Rápida:**\n",
        "\n",
        "- **Desempenho Excelente:** Os modelos são altamente eficazes em prever e classificar a incidência de novos casos de COVID-19 com base nas variáveis selecionadas.\n",
        "- **Modelos Confiáveis:** A validação cruzada estratificada reforça a confiabilidade dos modelos, mostrando que eles mantêm o desempenho em diferentes subconjuntos dos dados.\n",
        "- **Importância do Pré-processamento:** As transformações aplicadas nos dados e o ajuste dos hiperparâmetros foram cruciais para alcançar esses resultados.\n",
        "\n",
        "<br>\n",
        "\n",
        "**Resumo:**\n",
        "\n",
        "Isso demonstra que os modelos preditivos alcançaram alto desempenho na previsão e classificação dos novos casos de COVID-19. O Random Forest Regressor apresentou um MSE baixo, indicando precisão nas previsões. Já os classificadores Random Forest e MLP atingiram 100% de acurácia, tanto nos testes quanto na validação cruzada, demonstrando excelente capacidade de generalização. Esses resultados mostram que a abordagem é eficaz e pode ser uma ferramenta valiosa para auxiliar na tomada de decisões em saúde pública."
      ],
      "metadata": {
        "id": "6hJJGbuc7kah"
      }
    },
    {
      "cell_type": "markdown",
      "source": [
        "--"
      ],
      "metadata": {
        "id": "yjDYrPl19Tdg"
      }
    }
  ]
}